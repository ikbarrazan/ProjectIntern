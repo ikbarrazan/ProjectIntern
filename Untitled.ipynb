{
 "cells": [
  {
   "cell_type": "code",
   "execution_count": 1,
   "id": "44c550a6-99c2-4ecd-b5d6-4cda85e450fa",
   "metadata": {
    "tags": []
   },
   "outputs": [],
   "source": [
    "from IPython.display import display\n",
    "from IPython.display import (\n",
    "    HTML, Image, Latex, Math, Markdown, SVG\n",
    ")"
   ]
  },
  {
   "cell_type": "code",
   "execution_count": 5,
   "id": "508d28a8-dc2f-4a1e-b7b2-ff35d815587a",
   "metadata": {
    "tags": []
   },
   "outputs": [],
   "source": [
    "c = 5 + 5"
   ]
  },
  {
   "cell_type": "code",
   "execution_count": null,
   "id": "81f5fa16-0ffa-4418-a518-9889ef599cc9",
   "metadata": {},
   "outputs": [],
   "source": []
  }
 ],
 "metadata": {
  "kernelspec": {
   "display_name": "Python 3 (ipykernel)",
   "language": "python",
   "name": "python3"
  },
  "language_info": {
   "codemirror_mode": {
    "name": "ipython",
    "version": 3
   },
   "file_extension": ".py",
   "mimetype": "text/x-python",
   "name": "python",
   "nbconvert_exporter": "python",
   "pygments_lexer": "ipython3",
   "version": "3.11.5"
  }
 },
 "nbformat": 4,
 "nbformat_minor": 5
}
