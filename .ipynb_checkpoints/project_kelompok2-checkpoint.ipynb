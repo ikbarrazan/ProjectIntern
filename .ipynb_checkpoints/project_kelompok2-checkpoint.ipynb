{
 "cells": [
  {
   "cell_type": "markdown",
   "metadata": {},
   "source": [
    "# Analisis dan prediksi karyawan suatu perusahaan resign/attrition"
   ]
  },
  {
   "cell_type": "markdown",
   "metadata": {},
   "source": [
    "by Kelompok 2"
   ]
  },
  {
   "cell_type": "markdown",
   "metadata": {},
   "source": [
    "**> Members :**\n",
    "\n",
    "*   Ikbar Razan\n",
    "*   Richard"
   ]
  },
  {
   "cell_type": "markdown",
   "metadata": {},
   "source": [
    "## Latar Belakang"
   ]
  },
  {
   "cell_type": "markdown",
   "metadata": {},
   "source": [
    "### Analisis"
   ]
  },
  {
   "cell_type": "markdown",
   "metadata": {},
   "source": [
    "* Mencari tau alasan di balik resignnya/attrition nya karyawan suatu perusahaan dan faktor-faktor yang mempengaruhi\n",
    "\n",
    "* Melakukan perbandingan terhadap algoritma random forest, xxx,dan xxx pada kasus ini( pastinya algoritma yg kategorikal)\n",
    "\n",
    "* Menentukan metode terbaik diantara tanpa resampling, undersampling, dan oversampling pada kasus ini."
   ]
  },
  {
   "cell_type": "markdown",
   "metadata": {},
   "source": [
    "### Prediksi"
   ]
  },
  {
   "cell_type": "markdown",
   "metadata": {},
   "source": [
    "Memperkirakan faktor apa yang harus diperhatikan kedepannya agar karyawan tidak resign ketika bekerja di suatu perusahaan"
   ]
  },
  {
   "cell_type": "markdown",
   "metadata": {},
   "source": [
    "### Data set"
   ]
  },
  {
   "cell_type": "markdown",
   "metadata": {},
   "source": [
    "link : https://www.kaggle.com/datasets/nezukokamaado/hr-metrics-and-analytics-repository"
   ]
  },
  {
   "cell_type": "markdown",
   "metadata": {},
   "source": [
    "### Metadata"
   ]
  },
  {
   "cell_type": "markdown",
   "metadata": {},
   "source": [
    "Age : The age of the employee. (Numerical)\n",
    "\n",
    "Attrition : Whether or not the employee has left the organization. (Categorical)\n",
    "\n",
    "Business Travel : The frequency of business travel for the employee. (Categorical)\n",
    "\n",
    "Daily Rate : The daily rate of pay for the employee. (Numerical)\n",
    "\n",
    "Department : The department the employee works in. (Categorical)\n",
    "\n",
    "Distance From Home : The distance from home in miles for the employee. (Numerical)\n",
    "\n",
    "Education : The level of education achieved by the employee. (Categorical)\n",
    "\n",
    "EducationField : The field of study for the employee's education. (Categorical)\n",
    "\n",
    "Employee Count : The total number of employees in the organization. (Numerical)\n",
    "\n",
    "Employee Number : A unique identifier for each employee profile. (Numerical)\n",
    "\n",
    "Environment Satisfaction : The employee's satisfaction with their work environment. (Categorical)\n",
    "\n",
    "Gender : The gender of the employee. (Categorical)\n",
    "\n",
    "Hourly Rate : The hourly rate of pay for the employee. (Numerical)\n",
    "\n",
    "Job Involvement : The level of involvement required for the employee's job. (Categorical)\n",
    "\n",
    "Job Level : The job level of the employee. (Categorical)\n",
    "\n",
    "Job Role : The role of the employee in the organization. (Categorical)\n",
    "\n",
    "Job Satisfaction : The employee's satisfaction with their job. (Categorical)\n",
    "\n",
    "Marital Status : The marital status of the employee. (Categorical)\n",
    "\n",
    "Monthly Income : The monthly income of the employee. (Numerical)\n",
    "\n",
    "Monthly Rate : The monthly rate of pay for the employee. (Numerical)\n",
    "\n",
    "Num Companies Worked : The number of companies the employee has worked for. (Numerical)\n",
    "\n",
    "Over18 : Whether or not the employee is over 18. (Categorical)\n",
    "\n",
    "OverTime : Whether or not the employee works overtime. (Categorical)\n",
    "\n",
    "Percent Salary Hike : The percentage of salary hike for the employee. (Numerical)\n",
    "\n",
    "Performance Rating : The performance rating of the employee. (Categorical)\n",
    "\n",
    "Relationship Satisfaction : The employee's satisfaction with their relationships. (Categorical)\n",
    "\n",
    "Standard Hours : The standard hours of work for the employee. (Numerical)\n",
    "\n",
    "Stock Option Level : The stock option level of the employee. (Numerical)\n",
    "\n",
    "Total Working Years : The total number of years the employee has worked. (Numerical)\n",
    "\n",
    "Training Times Last Year : The number of times the employee was taken for training in the last year. (Numerical)\n",
    "\n",
    "Work Life Balance : The employee's perception of their work-life balance. (Categorical)\n",
    "\n",
    "Years At Company : The number of years the employee has been with the company. (Numerical)\n",
    "\n",
    "Years In Current Role : The number of years the employee has been in their current role. (Numerical)\n",
    "\n",
    "Years Since Last Promotion : The number of years since the employee's last promotion. (Numerical)\n",
    "\n",
    "Years With Curr Manager : The number of years the employee has been with their current manager. (Numerical)"
   ]
  },
  {
   "cell_type": "code",
   "execution_count": null,
   "metadata": {},
   "outputs": [],
   "source": []
  }
 ],
 "metadata": {
  "kernelspec": {
   "display_name": "Python 3 (ipykernel)",
   "language": "python",
   "name": "python3"
  },
  "language_info": {
   "codemirror_mode": {
    "name": "ipython",
    "version": 3
   },
   "file_extension": ".py",
   "mimetype": "text/x-python",
   "name": "python",
   "nbconvert_exporter": "python",
   "pygments_lexer": "ipython3",
   "version": "3.11.4"
  }
 },
 "nbformat": 4,
 "nbformat_minor": 4
}
